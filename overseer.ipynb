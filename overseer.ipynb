{
 "cells": [
  {
   "cell_type": "markdown",
   "metadata": {},
   "source": [
    "# Pika"
   ]
  },
  {
   "cell_type": "code",
   "execution_count": 0,
   "metadata": {
    "collapsed": true,
    "pycharm": {
     "is_executing": false
    }
   },
   "outputs": [],
   "source": [
    "import pika\n",
    "\n",
    "pika_conn_params = pika.ConnectionParameters(\n",
    "    host='localhost', port=5672,\n",
    "    credentials=pika.credentials.PlainCredentials('guest', 'guest'),\n",
    ")\n",
    "connection = pika.BlockingConnection(pika_conn_params)\n",
    "channel = connection.channel()\n",
    "queue = channel.queue_declare(\n",
    "    queue=\"your_queue\", durable=True,\n",
    "    exclusive=False, auto_delete=False\n",
    ")\n",
    "\n",
    "print(queue.method.message_count)"
   ]
  },
  {
   "cell_type": "markdown",
   "metadata": {},
   "source": [
    "# PyRabbit"
   ]
  },
  {
   "cell_type": "code",
   "execution_count": null,
   "metadata": {},
   "outputs": [],
   "source": [
    "from pyrabbit.api import Client\n",
    "cl = Client('localhost:55672', 'guest', 'guest')\n",
    "cl.get_messages('example_vhost', 'example_queue')[0]['message_count']"
   ]
  },
  {
   "cell_type": "markdown",
   "metadata": {},
   "source": [
    "# HTTP"
   ]
  },
  {
   "cell_type": "code",
   "execution_count": null,
   "metadata": {},
   "outputs": [],
   "source": [
    "!curl -i -u user:password http://localhost:15672/api/queues/vhost/queue\n",
    "!curl -i -u guest:guest http://localhost:15672/api/queues/%2f/celery "
   ]
  },
  {
   "cell_type": "markdown",
   "metadata": {},
   "source": [
    "# CLI"
   ]
  },
  {
   "cell_type": "code",
   "execution_count": null,
   "metadata": {},
   "outputs": [],
   "source": [
    "sudo rabbitmqctl list_queues | grep 'my_queue'"
   ]
  }
 ],
 "metadata": {
  "kernelspec": {
   "display_name": "Python 3",
   "language": "python",
   "name": "python3"
  },
  "language_info": {
   "codemirror_mode": {
    "name": "ipython",
    "version": 3
   },
   "file_extension": ".py",
   "mimetype": "text/x-python",
   "name": "python",
   "nbconvert_exporter": "python",
   "pygments_lexer": "ipython3",
   "version": "3.7.0"
  }
 },
 "nbformat": 4,
 "nbformat_minor": 1
}
